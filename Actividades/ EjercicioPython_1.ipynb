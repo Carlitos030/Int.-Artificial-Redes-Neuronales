{
  "nbformat": 4,
  "nbformat_minor": 0,
  "metadata": {
    "colab": {
      "provenance": [],
      "authorship_tag": "ABX9TyPgUJLC2Bu9vyEAhT5cthjG",
      "include_colab_link": true
    },
    "kernelspec": {
      "name": "python3",
      "display_name": "Python 3"
    },
    "language_info": {
      "name": "python"
    }
  },
  "cells": [
    {
      "cell_type": "markdown",
      "metadata": {
        "id": "view-in-github",
        "colab_type": "text"
      },
      "source": [
        "<a href=\"https://colab.research.google.com/github/Carlitos030/Int.-Artificial-Redes-Neuronales/blob/main/Actividades/%20EjercicioPython_1.ipynb\" target=\"_parent\"><img src=\"https://colab.research.google.com/assets/colab-badge.svg\" alt=\"Open In Colab\"/></a>"
      ]
    },
    {
      "cell_type": "code",
      "execution_count": 5,
      "metadata": {
        "colab": {
          "base_uri": "https://localhost:8080/"
        },
        "id": "w8toBIJ89J-3",
        "outputId": "b1fbf353-165c-48f9-bdd6-2713b4f7108e"
      },
      "outputs": [
        {
          "output_type": "stream",
          "name": "stdout",
          "text": [
            "Ingresa tu nombre: juan\n",
            "Lamento no poder saludarte juan\n"
          ]
        }
      ],
      "source": [
        "# Actividad 2: Diseño de algoritmos en Python- Carlos Eduardo Estrada Hernández\n",
        "# Matrícula 2109339- MARTES N4-N6\n",
        "\n",
        "# 1. Algoritmo que le pida al usuario por su nombre y que lo salude con su nombre, excepto si se llama “Ana”, “Juan”, y “Pedro”.\n",
        "# Se pide  al usuario que ingrese su nombre\n",
        "nombre = input(\"Ingresa tu nombre: \")\n",
        "\n",
        "# Verificamos si el nombre está en la lista de nombres especiales\n",
        "if nombre.lower() in [\"ana\", \"juan\", \"pedro\"]:\n",
        "    print(\"Lamento no poder saludarte \" + nombre)\n",
        "else:\n",
        "    print(\"Hola \" + nombre + \" bienvenido\")\n"
      ]
    },
    {
      "cell_type": "code",
      "source": [
        "# 2. Algoritmo que por medio de una función, le pida al usuario una lista de N elementos y como resultado invierta el sentido de la lista.\n",
        "\n",
        "# se define una función para invertir una lista\n",
        "def invertir_lista():\n",
        "    # Se pide  la cantidad de elementos en la lista\n",
        "    n = int(input(\"¿Cuántos elementos tiene tu lista? \"))\n",
        "\n",
        "    # Se pide que ingrese los elementos de la lista uno por uno\n",
        "    lista = []\n",
        "    for i in range(n):\n",
        "        elemento = input(\"Ingrese el elemento \" + str(i+1) + \": \")\n",
        "        lista.append(elemento)\n",
        "\n",
        "    # Se imprime la lista original\n",
        "    print(\"Lista original:\", lista)\n",
        "\n",
        "    # Se invierte la lista utilizando la función reverse()\n",
        "    lista.reverse()\n",
        "\n",
        "    # Se imprime la lista invertida\n",
        "    print(\"Lista invertida:\", lista)\n",
        "\n",
        "# Llamar a la función para invertir la lista\n",
        "invertir_lista()\n"
      ],
      "metadata": {
        "colab": {
          "base_uri": "https://localhost:8080/"
        },
        "id": "x5Ob9aRj-0Xq",
        "outputId": "c77054c9-1cd3-469f-9276-fb71fe0ddbc6"
      },
      "execution_count": 7,
      "outputs": [
        {
          "output_type": "stream",
          "name": "stdout",
          "text": [
            "¿Cuántos elementos tiene tu lista? 4\n",
            "Ingrese el elemento 1: Mecánica\n",
            "Ingrese el elemento 2: Electrónica\n",
            "Ingrese el elemento 3: Robótica\n",
            "Ingrese el elemento 4: Automatización\n",
            "Lista original: ['Mecánica', 'Electrónica', 'Robótica', 'Automatización']\n",
            "Lista invertida: ['Automatización', 'Robótica', 'Electrónica', 'Mecánica']\n"
          ]
        }
      ]
    },
    {
      "cell_type": "code",
      "source": [
        "# 3. Algoritmo que le pregunte al usuario cuántos números de la serie de Fibonacci quiere generar y que al final los imprima.\n",
        "# Se define una función para generar la serie de Fibonacci\n",
        "def fibonacci(n):\n",
        "    # Se inicia la serie de Fibonacci con los dos primeros números\n",
        "    fib_series = [0, 1]\n",
        "\n",
        "    # Se generan los siguientes números de la serie de Fibonacci\n",
        "    for i in range(2, n):\n",
        "        next_number = fib_series[-1] + fib_series[-2]\n",
        "        fib_series.append(next_number)\n",
        "\n",
        "    return fib_series\n",
        "\n",
        "# Se al usuario la cantidad de números de Fibonacci que quiere generar\n",
        "n = int(input(\"¿Cuántos números de la serie de Fibonacci quieres generar? \"))\n",
        "\n",
        "# Se genera la serie de Fibonacci y se almacena en una lista\n",
        "fibonacci_series = fibonacci(n)\n",
        "\n",
        "# Se imprimen los números de la serie de Fibonacci\n",
        "print(\"Los primeros\", n, \"números de la serie de Fibonacci son:\", fibonacci_series)\n"
      ],
      "metadata": {
        "colab": {
          "base_uri": "https://localhost:8080/"
        },
        "id": "d9UZ79uYBfyM",
        "outputId": "578b9348-93d9-4332-a414-e2cd5574a1b5"
      },
      "execution_count": 9,
      "outputs": [
        {
          "output_type": "stream",
          "name": "stdout",
          "text": [
            "¿Cuántos números de la serie de Fibonacci quieres generar? 10\n",
            "Los primeros 10 números de la serie de Fibonacci son: [0, 1, 1, 2, 3, 5, 8, 13, 21, 34]\n"
          ]
        }
      ]
    },
    {
      "cell_type": "code",
      "source": [
        "# 4. Juego de adivinar el número.\n",
        "import random  # módulo random para generar números aleatorios\n",
        "\n",
        "# Se genera un número aleatorio entre 1 y 100\n",
        "numero_objetivo = random.randint(1, 100)\n",
        "\n",
        "# Se inicia el loop para que la persona adivine el número\n",
        "while True:\n",
        "    # Pedimos a la persona que ingrese su intento\n",
        "    intento = int(input(\"Adivina el número (entre 1 y 100): \"))\n",
        "\n",
        "    # Se compara el intento de la persona con el número random\n",
        "    if intento < numero_objetivo:\n",
        "        print(\"El número es mayor.\")\n",
        "    elif intento > numero_objetivo:\n",
        "        print(\"El número es menor.\")\n",
        "    else:\n",
        "        print(\"¡Lo lograste! ¿Ves cómo no era tan difícil?\")\n",
        "        break  # Se sale del loop si la persona adivina correctamente\n"
      ],
      "metadata": {
        "colab": {
          "base_uri": "https://localhost:8080/"
        },
        "id": "xIhhIFqTCwDT",
        "outputId": "31634e37-40e1-4cf2-e667-3f2634db0504"
      },
      "execution_count": 12,
      "outputs": [
        {
          "output_type": "stream",
          "name": "stdout",
          "text": [
            "Adivina el número (entre 1 y 100): 50\n",
            "El número es mayor.\n",
            "Adivina el número (entre 1 y 100): 70\n",
            "El número es mayor.\n",
            "Adivina el número (entre 1 y 100): 80\n",
            "¡Lo lograste! ¿Ves cómo no era tan difícil?\n"
          ]
        }
      ]
    },
    {
      "cell_type": "code",
      "source": [
        "#5. Ejercicio de cálculo de números primos en un rango dado.\n",
        "# Función para corroborar si un número es primo\n",
        "def es_primo(numero):\n",
        "    # Si el número es 1, no es primo\n",
        "    if numero == 1:\n",
        "        return False\n",
        "    # Iteramos desde 2 hasta la mitad del número para verificar si es divisible\n",
        "    for i in range(2, numero // 2 + 1):\n",
        "        if numero % i == 0:\n",
        "            return False\n",
        "    return True\n",
        "\n",
        "# Se solicita al usuario el rango de números\n",
        "inicio = int(input(\"Ingrese el número de inicio del rango: \"))\n",
        "fin = int(input(\"Ingrese el número final del rango: \"))\n",
        "\n",
        "# Se imprimen los números primos dentro del rango dado\n",
        "print(\"Los números primos que hay en el rango de\", inicio, \"a\", fin, \"son:\")\n",
        "\n",
        "for numero in range(inicio, fin + 1):\n",
        "    if es_primo(numero):\n",
        "        print(numero)\n"
      ],
      "metadata": {
        "colab": {
          "base_uri": "https://localhost:8080/"
        },
        "id": "MpquvJRiGRJD",
        "outputId": "4e135e20-25d6-49e6-c81f-5d831b953567"
      },
      "execution_count": 13,
      "outputs": [
        {
          "output_type": "stream",
          "name": "stdout",
          "text": [
            "Ingrese el número de inicio del rango: 4\n",
            "Ingrese el número final del rango: 70\n",
            "Los números primos que hay en el rango de 4 a 70 son:\n",
            "5\n",
            "7\n",
            "11\n",
            "13\n",
            "17\n",
            "19\n",
            "23\n",
            "29\n",
            "31\n",
            "37\n",
            "41\n",
            "43\n",
            "47\n",
            "53\n",
            "59\n",
            "61\n",
            "67\n"
          ]
        }
      ]
    },
    {
      "cell_type": "code",
      "source": [
        "#6. Ejercicio de implementación de una calculadora básica utilizando funciones\n",
        "# Función para la suma\n",
        "def suma(a, b):\n",
        "    return a + b\n",
        "\n",
        "# Función para la resta\n",
        "def resta(a, b):\n",
        "    return a - b\n",
        "\n",
        "# Función para la multiplicación\n",
        "def multiplicacion(a, b):\n",
        "    return a * b\n",
        "\n",
        "# Función para la división\n",
        "def division(a, b):\n",
        "    # división por cero\n",
        "    if b == 0:\n",
        "        return \"Error, No se puede dividir entre cero.\"\n",
        "    else:\n",
        "        return a / b\n",
        "\n",
        "# Se solicita a la persona los dos números y la operación a realizar\n",
        "numero1 = float(input(\"Ingrese el 1er número: \"))\n",
        "numero2 = float(input(\"Ingrese el 2ndo número: \"))\n",
        "operacion = input(\"Ingrese la operación a realizar (+, -, *, /): \")\n",
        "\n",
        "# Realizar la operación correspondiente\n",
        "if operacion == '+':\n",
        "    resultado = suma(numero1, numero2)\n",
        "elif operacion == '-':\n",
        "    resultado = resta(numero1, numero2)\n",
        "elif operacion == '*':\n",
        "    resultado = multiplicacion(numero1, numero2)\n",
        "elif operacion == '/':\n",
        "    resultado = division(numero1, numero2)\n",
        "else:\n",
        "    resultado = \"Operación no válida.\"\n",
        "\n",
        "# Imprimir el resultado\n",
        "print(\"El resultado es:\", resultado)\n"
      ],
      "metadata": {
        "colab": {
          "base_uri": "https://localhost:8080/"
        },
        "id": "zcb0qENWKqR6",
        "outputId": "3be45adb-513e-4332-bdf4-64626b38ab1b"
      },
      "execution_count": 16,
      "outputs": [
        {
          "output_type": "stream",
          "name": "stdout",
          "text": [
            "Ingrese el 1er número: 9\n",
            "Ingrese el 2ndo número: 2\n",
            "Ingrese la operación a realizar (+, -, *, /): /\n",
            "El resultado es: 4.5\n"
          ]
        }
      ]
    }
  ]
}